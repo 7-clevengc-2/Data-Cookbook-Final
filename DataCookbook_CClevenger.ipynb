{
  "nbformat": 4,
  "nbformat_minor": 0,
  "metadata": {
    "colab": {
      "provenance": [],
      "authorship_tag": "ABX9TyN5RO8dQdY1R5LhrbL9Hs1F",
      "include_colab_link": true
    },
    "kernelspec": {
      "name": "python3",
      "display_name": "Python 3"
    },
    "language_info": {
      "name": "python"
    }
  },
  "cells": [
    {
      "cell_type": "markdown",
      "metadata": {
        "id": "view-in-github",
        "colab_type": "text"
      },
      "source": [
        "<a href=\"https://colab.research.google.com/github/7-clevengc-2/Data-Cookbook-Final/blob/main/DataCookbook_CClevenger.ipynb\" target=\"_parent\"><img src=\"https://colab.research.google.com/assets/colab-badge.svg\" alt=\"Open In Colab\"/></a>"
      ]
    },
    {
      "cell_type": "markdown",
      "source": [
        "# Data Cookbook\n",
        "\n",
        "**Name**: Catelyn Clevenger\n",
        "\n",
        "**Collaborators**:\n",
        "\n",
        "**Sources**:\n",
        "\n",
        "*   CS-215 Project 4\n",
        "*   CS-215 Project 7\n",
        "\n"
      ],
      "metadata": {
        "id": "cNjyyaVVuYwL"
      }
    },
    {
      "cell_type": "markdown",
      "source": [
        "## **Goal**:  I want to create a 'Data Cookbook' that demonstrates four different data science techniques I can refer back to during future projects."
      ],
      "metadata": {
        "id": "sLW_DegmufW3"
      }
    },
    {
      "cell_type": "code",
      "source": [
        "#First, I will import the necessary package:\n",
        "import pandas as pd"
      ],
      "metadata": {
        "id": "tLxNt5acCt9I"
      },
      "execution_count": 1,
      "outputs": []
    },
    {
      "cell_type": "markdown",
      "source": [
        "## **Question 1**: How can I sort data by multiple columns when I want one column to be ascending and the other column to be descending?"
      ],
      "metadata": {
        "id": "C6HiNl7js5ug"
      }
    },
    {
      "cell_type": "markdown",
      "source": [
        "### 1) Load in the dataframe"
      ],
      "metadata": {
        "id": "y4hCj6wOFJ46"
      }
    },
    {
      "cell_type": "code",
      "source": [
        "# I will be looking at timestamp data from project 7.\n",
        "timestamp = pd.read_csv('/Kaleo_extended_timestamp.csv')"
      ],
      "metadata": {
        "id": "m0MeV606Eh8s"
      },
      "execution_count": 2,
      "outputs": []
    },
    {
      "cell_type": "markdown",
      "source": [
        "### 2) Take a look at the dataframe to see if any columns are already sorted"
      ],
      "metadata": {
        "id": "wmPZHkjZFNne"
      }
    },
    {
      "cell_type": "code",
      "source": [
        "# I can use .head() and .tail() to check a small sample of columns.  The timestamp and date_time columns appears to already be sorted.\n",
        "# However, I want the dataframe to be sorted in ascending order for time_diff and descending order for date_time to find the\n",
        "# (most current) period of time my partner was skipping songs on Spotify the most frequently.\n",
        "print(timestamp.head())\n",
        "print(timestamp.tail())"
      ],
      "metadata": {
        "colab": {
          "base_uri": "https://localhost:8080/"
        },
        "id": "OdqDmRGJE5wY",
        "outputId": "c571d233-0e35-4a75-bef9-1d2720edec31"
      },
      "execution_count": 3,
      "outputs": [
        {
          "output_type": "stream",
          "name": "stdout",
          "text": [
            "   Unnamed: 0         timestamp            date_time        time_diff  \\\n",
            "0           0  2025-03-15 02:10  2025-03-15 02:10:00              NaN   \n",
            "1           1  2025-03-15 02:10  2025-03-15 02:10:00  0 days 00:00:00   \n",
            "2           2  2025-03-15 02:10  2025-03-15 02:10:00  0 days 00:00:00   \n",
            "3          13  2025-03-15 02:11  2025-03-15 02:11:00  0 days 00:01:00   \n",
            "4          12  2025-03-15 02:11  2025-03-15 02:11:00  0 days 00:00:00   \n",
            "\n",
            "         date      time  month  \n",
            "0  2025-03-15  02:10:00      3  \n",
            "1  2025-03-15  02:10:00      3  \n",
            "2  2025-03-15  02:10:00      3  \n",
            "3  2025-03-15  02:11:00      3  \n",
            "4  2025-03-15  02:11:00      3  \n",
            "      Unnamed: 0         timestamp            date_time        time_diff  \\\n",
            "1436        1436  2025-04-11 03:08  2025-04-11 03:08:00  0 days 00:04:00   \n",
            "1437        1437  2025-04-11 03:11  2025-04-11 03:11:00  0 days 00:03:00   \n",
            "1438        1438  2025-04-11 03:15  2025-04-11 03:15:00  0 days 00:04:00   \n",
            "1439        1439  2025-04-11 03:17  2025-04-11 03:17:00  0 days 00:02:00   \n",
            "1440        1440  2025-04-11 03:19  2025-04-11 03:19:00  0 days 00:02:00   \n",
            "\n",
            "            date      time  month  \n",
            "1436  2025-04-11  03:08:00      4  \n",
            "1437  2025-04-11  03:11:00      4  \n",
            "1438  2025-04-11  03:15:00      4  \n",
            "1439  2025-04-11  03:17:00      4  \n",
            "1440  2025-04-11  03:19:00      4  \n"
          ]
        }
      ]
    },
    {
      "cell_type": "markdown",
      "source": [
        "### 3) Use the .sort_values() method"
      ],
      "metadata": {
        "id": "qKbX9JXcGnuJ"
      }
    },
    {
      "cell_type": "code",
      "source": [
        "# Sort_values will sort by the first column listed, then the second column.\n",
        "# The ascending status can also differ for each column being sorted by.\n",
        "\n",
        "# I can see that a time difference of 0 is the smallest time difference.\n",
        "# The most current date this time difference occured at is April 11, 2025.\n",
        "timestamp.sort_values(by=['time_diff', 'date_time'], ascending=[True, False])"
      ],
      "metadata": {
        "colab": {
          "base_uri": "https://localhost:8080/",
          "height": 416
        },
        "id": "YY9sGHz5HGWF",
        "outputId": "725fe857-33b9-4a5a-98a6-77644a6d4e63"
      },
      "execution_count": 4,
      "outputs": [
        {
          "output_type": "execute_result",
          "data": {
            "text/plain": [
              "      Unnamed: 0         timestamp            date_time        time_diff  \\\n",
              "1431        1431  2025-04-11 03:04  2025-04-11 03:04:00  0 days 00:00:00   \n",
              "1432        1432  2025-04-11 03:04  2025-04-11 03:04:00  0 days 00:00:00   \n",
              "1433        1433  2025-04-11 03:04  2025-04-11 03:04:00  0 days 00:00:00   \n",
              "1434        1434  2025-04-11 03:04  2025-04-11 03:04:00  0 days 00:00:00   \n",
              "1435        1435  2025-04-11 03:04  2025-04-11 03:04:00  0 days 00:00:00   \n",
              "...          ...               ...                  ...              ...   \n",
              "1314        1315  2025-04-07 10:08  2025-04-07 10:08:00  1 days 18:39:00   \n",
              "572          572  2025-03-20 05:44  2025-03-20 05:44:00  2 days 00:09:00   \n",
              "743          743  2025-03-24 04:40  2025-03-24 04:40:00  2 days 03:45:00   \n",
              "1260        1260  2025-04-05 13:12  2025-04-05 13:12:00  2 days 07:45:00   \n",
              "0              0  2025-03-15 02:10  2025-03-15 02:10:00              NaN   \n",
              "\n",
              "            date      time  month  \n",
              "1431  2025-04-11  03:04:00      4  \n",
              "1432  2025-04-11  03:04:00      4  \n",
              "1433  2025-04-11  03:04:00      4  \n",
              "1434  2025-04-11  03:04:00      4  \n",
              "1435  2025-04-11  03:04:00      4  \n",
              "...          ...       ...    ...  \n",
              "1314  2025-04-07  10:08:00      4  \n",
              "572   2025-03-20  05:44:00      3  \n",
              "743   2025-03-24  04:40:00      3  \n",
              "1260  2025-04-05  13:12:00      4  \n",
              "0     2025-03-15  02:10:00      3  \n",
              "\n",
              "[1441 rows x 7 columns]"
            ],
            "text/html": [
              "\n",
              "  <div id=\"df-cf73acf3-1590-465f-b9ac-c8df53dc4229\" class=\"colab-df-container\">\n",
              "    <div>\n",
              "<style scoped>\n",
              "    .dataframe tbody tr th:only-of-type {\n",
              "        vertical-align: middle;\n",
              "    }\n",
              "\n",
              "    .dataframe tbody tr th {\n",
              "        vertical-align: top;\n",
              "    }\n",
              "\n",
              "    .dataframe thead th {\n",
              "        text-align: right;\n",
              "    }\n",
              "</style>\n",
              "<table border=\"1\" class=\"dataframe\">\n",
              "  <thead>\n",
              "    <tr style=\"text-align: right;\">\n",
              "      <th></th>\n",
              "      <th>Unnamed: 0</th>\n",
              "      <th>timestamp</th>\n",
              "      <th>date_time</th>\n",
              "      <th>time_diff</th>\n",
              "      <th>date</th>\n",
              "      <th>time</th>\n",
              "      <th>month</th>\n",
              "    </tr>\n",
              "  </thead>\n",
              "  <tbody>\n",
              "    <tr>\n",
              "      <th>1431</th>\n",
              "      <td>1431</td>\n",
              "      <td>2025-04-11 03:04</td>\n",
              "      <td>2025-04-11 03:04:00</td>\n",
              "      <td>0 days 00:00:00</td>\n",
              "      <td>2025-04-11</td>\n",
              "      <td>03:04:00</td>\n",
              "      <td>4</td>\n",
              "    </tr>\n",
              "    <tr>\n",
              "      <th>1432</th>\n",
              "      <td>1432</td>\n",
              "      <td>2025-04-11 03:04</td>\n",
              "      <td>2025-04-11 03:04:00</td>\n",
              "      <td>0 days 00:00:00</td>\n",
              "      <td>2025-04-11</td>\n",
              "      <td>03:04:00</td>\n",
              "      <td>4</td>\n",
              "    </tr>\n",
              "    <tr>\n",
              "      <th>1433</th>\n",
              "      <td>1433</td>\n",
              "      <td>2025-04-11 03:04</td>\n",
              "      <td>2025-04-11 03:04:00</td>\n",
              "      <td>0 days 00:00:00</td>\n",
              "      <td>2025-04-11</td>\n",
              "      <td>03:04:00</td>\n",
              "      <td>4</td>\n",
              "    </tr>\n",
              "    <tr>\n",
              "      <th>1434</th>\n",
              "      <td>1434</td>\n",
              "      <td>2025-04-11 03:04</td>\n",
              "      <td>2025-04-11 03:04:00</td>\n",
              "      <td>0 days 00:00:00</td>\n",
              "      <td>2025-04-11</td>\n",
              "      <td>03:04:00</td>\n",
              "      <td>4</td>\n",
              "    </tr>\n",
              "    <tr>\n",
              "      <th>1435</th>\n",
              "      <td>1435</td>\n",
              "      <td>2025-04-11 03:04</td>\n",
              "      <td>2025-04-11 03:04:00</td>\n",
              "      <td>0 days 00:00:00</td>\n",
              "      <td>2025-04-11</td>\n",
              "      <td>03:04:00</td>\n",
              "      <td>4</td>\n",
              "    </tr>\n",
              "    <tr>\n",
              "      <th>...</th>\n",
              "      <td>...</td>\n",
              "      <td>...</td>\n",
              "      <td>...</td>\n",
              "      <td>...</td>\n",
              "      <td>...</td>\n",
              "      <td>...</td>\n",
              "      <td>...</td>\n",
              "    </tr>\n",
              "    <tr>\n",
              "      <th>1314</th>\n",
              "      <td>1315</td>\n",
              "      <td>2025-04-07 10:08</td>\n",
              "      <td>2025-04-07 10:08:00</td>\n",
              "      <td>1 days 18:39:00</td>\n",
              "      <td>2025-04-07</td>\n",
              "      <td>10:08:00</td>\n",
              "      <td>4</td>\n",
              "    </tr>\n",
              "    <tr>\n",
              "      <th>572</th>\n",
              "      <td>572</td>\n",
              "      <td>2025-03-20 05:44</td>\n",
              "      <td>2025-03-20 05:44:00</td>\n",
              "      <td>2 days 00:09:00</td>\n",
              "      <td>2025-03-20</td>\n",
              "      <td>05:44:00</td>\n",
              "      <td>3</td>\n",
              "    </tr>\n",
              "    <tr>\n",
              "      <th>743</th>\n",
              "      <td>743</td>\n",
              "      <td>2025-03-24 04:40</td>\n",
              "      <td>2025-03-24 04:40:00</td>\n",
              "      <td>2 days 03:45:00</td>\n",
              "      <td>2025-03-24</td>\n",
              "      <td>04:40:00</td>\n",
              "      <td>3</td>\n",
              "    </tr>\n",
              "    <tr>\n",
              "      <th>1260</th>\n",
              "      <td>1260</td>\n",
              "      <td>2025-04-05 13:12</td>\n",
              "      <td>2025-04-05 13:12:00</td>\n",
              "      <td>2 days 07:45:00</td>\n",
              "      <td>2025-04-05</td>\n",
              "      <td>13:12:00</td>\n",
              "      <td>4</td>\n",
              "    </tr>\n",
              "    <tr>\n",
              "      <th>0</th>\n",
              "      <td>0</td>\n",
              "      <td>2025-03-15 02:10</td>\n",
              "      <td>2025-03-15 02:10:00</td>\n",
              "      <td>NaN</td>\n",
              "      <td>2025-03-15</td>\n",
              "      <td>02:10:00</td>\n",
              "      <td>3</td>\n",
              "    </tr>\n",
              "  </tbody>\n",
              "</table>\n",
              "<p>1441 rows × 7 columns</p>\n",
              "</div>\n",
              "    <div class=\"colab-df-buttons\">\n",
              "\n",
              "  <div class=\"colab-df-container\">\n",
              "    <button class=\"colab-df-convert\" onclick=\"convertToInteractive('df-cf73acf3-1590-465f-b9ac-c8df53dc4229')\"\n",
              "            title=\"Convert this dataframe to an interactive table.\"\n",
              "            style=\"display:none;\">\n",
              "\n",
              "  <svg xmlns=\"http://www.w3.org/2000/svg\" height=\"24px\" viewBox=\"0 -960 960 960\">\n",
              "    <path d=\"M120-120v-720h720v720H120Zm60-500h600v-160H180v160Zm220 220h160v-160H400v160Zm0 220h160v-160H400v160ZM180-400h160v-160H180v160Zm440 0h160v-160H620v160ZM180-180h160v-160H180v160Zm440 0h160v-160H620v160Z\"/>\n",
              "  </svg>\n",
              "    </button>\n",
              "\n",
              "  <style>\n",
              "    .colab-df-container {\n",
              "      display:flex;\n",
              "      gap: 12px;\n",
              "    }\n",
              "\n",
              "    .colab-df-convert {\n",
              "      background-color: #E8F0FE;\n",
              "      border: none;\n",
              "      border-radius: 50%;\n",
              "      cursor: pointer;\n",
              "      display: none;\n",
              "      fill: #1967D2;\n",
              "      height: 32px;\n",
              "      padding: 0 0 0 0;\n",
              "      width: 32px;\n",
              "    }\n",
              "\n",
              "    .colab-df-convert:hover {\n",
              "      background-color: #E2EBFA;\n",
              "      box-shadow: 0px 1px 2px rgba(60, 64, 67, 0.3), 0px 1px 3px 1px rgba(60, 64, 67, 0.15);\n",
              "      fill: #174EA6;\n",
              "    }\n",
              "\n",
              "    .colab-df-buttons div {\n",
              "      margin-bottom: 4px;\n",
              "    }\n",
              "\n",
              "    [theme=dark] .colab-df-convert {\n",
              "      background-color: #3B4455;\n",
              "      fill: #D2E3FC;\n",
              "    }\n",
              "\n",
              "    [theme=dark] .colab-df-convert:hover {\n",
              "      background-color: #434B5C;\n",
              "      box-shadow: 0px 1px 3px 1px rgba(0, 0, 0, 0.15);\n",
              "      filter: drop-shadow(0px 1px 2px rgba(0, 0, 0, 0.3));\n",
              "      fill: #FFFFFF;\n",
              "    }\n",
              "  </style>\n",
              "\n",
              "    <script>\n",
              "      const buttonEl =\n",
              "        document.querySelector('#df-cf73acf3-1590-465f-b9ac-c8df53dc4229 button.colab-df-convert');\n",
              "      buttonEl.style.display =\n",
              "        google.colab.kernel.accessAllowed ? 'block' : 'none';\n",
              "\n",
              "      async function convertToInteractive(key) {\n",
              "        const element = document.querySelector('#df-cf73acf3-1590-465f-b9ac-c8df53dc4229');\n",
              "        const dataTable =\n",
              "          await google.colab.kernel.invokeFunction('convertToInteractive',\n",
              "                                                    [key], {});\n",
              "        if (!dataTable) return;\n",
              "\n",
              "        const docLinkHtml = 'Like what you see? Visit the ' +\n",
              "          '<a target=\"_blank\" href=https://colab.research.google.com/notebooks/data_table.ipynb>data table notebook</a>'\n",
              "          + ' to learn more about interactive tables.';\n",
              "        element.innerHTML = '';\n",
              "        dataTable['output_type'] = 'display_data';\n",
              "        await google.colab.output.renderOutput(dataTable, element);\n",
              "        const docLink = document.createElement('div');\n",
              "        docLink.innerHTML = docLinkHtml;\n",
              "        element.appendChild(docLink);\n",
              "      }\n",
              "    </script>\n",
              "  </div>\n",
              "\n",
              "\n",
              "    <div id=\"df-f07300d3-7b13-4711-a1f6-d629183b3357\">\n",
              "      <button class=\"colab-df-quickchart\" onclick=\"quickchart('df-f07300d3-7b13-4711-a1f6-d629183b3357')\"\n",
              "                title=\"Suggest charts\"\n",
              "                style=\"display:none;\">\n",
              "\n",
              "<svg xmlns=\"http://www.w3.org/2000/svg\" height=\"24px\"viewBox=\"0 0 24 24\"\n",
              "     width=\"24px\">\n",
              "    <g>\n",
              "        <path d=\"M19 3H5c-1.1 0-2 .9-2 2v14c0 1.1.9 2 2 2h14c1.1 0 2-.9 2-2V5c0-1.1-.9-2-2-2zM9 17H7v-7h2v7zm4 0h-2V7h2v10zm4 0h-2v-4h2v4z\"/>\n",
              "    </g>\n",
              "</svg>\n",
              "      </button>\n",
              "\n",
              "<style>\n",
              "  .colab-df-quickchart {\n",
              "      --bg-color: #E8F0FE;\n",
              "      --fill-color: #1967D2;\n",
              "      --hover-bg-color: #E2EBFA;\n",
              "      --hover-fill-color: #174EA6;\n",
              "      --disabled-fill-color: #AAA;\n",
              "      --disabled-bg-color: #DDD;\n",
              "  }\n",
              "\n",
              "  [theme=dark] .colab-df-quickchart {\n",
              "      --bg-color: #3B4455;\n",
              "      --fill-color: #D2E3FC;\n",
              "      --hover-bg-color: #434B5C;\n",
              "      --hover-fill-color: #FFFFFF;\n",
              "      --disabled-bg-color: #3B4455;\n",
              "      --disabled-fill-color: #666;\n",
              "  }\n",
              "\n",
              "  .colab-df-quickchart {\n",
              "    background-color: var(--bg-color);\n",
              "    border: none;\n",
              "    border-radius: 50%;\n",
              "    cursor: pointer;\n",
              "    display: none;\n",
              "    fill: var(--fill-color);\n",
              "    height: 32px;\n",
              "    padding: 0;\n",
              "    width: 32px;\n",
              "  }\n",
              "\n",
              "  .colab-df-quickchart:hover {\n",
              "    background-color: var(--hover-bg-color);\n",
              "    box-shadow: 0 1px 2px rgba(60, 64, 67, 0.3), 0 1px 3px 1px rgba(60, 64, 67, 0.15);\n",
              "    fill: var(--button-hover-fill-color);\n",
              "  }\n",
              "\n",
              "  .colab-df-quickchart-complete:disabled,\n",
              "  .colab-df-quickchart-complete:disabled:hover {\n",
              "    background-color: var(--disabled-bg-color);\n",
              "    fill: var(--disabled-fill-color);\n",
              "    box-shadow: none;\n",
              "  }\n",
              "\n",
              "  .colab-df-spinner {\n",
              "    border: 2px solid var(--fill-color);\n",
              "    border-color: transparent;\n",
              "    border-bottom-color: var(--fill-color);\n",
              "    animation:\n",
              "      spin 1s steps(1) infinite;\n",
              "  }\n",
              "\n",
              "  @keyframes spin {\n",
              "    0% {\n",
              "      border-color: transparent;\n",
              "      border-bottom-color: var(--fill-color);\n",
              "      border-left-color: var(--fill-color);\n",
              "    }\n",
              "    20% {\n",
              "      border-color: transparent;\n",
              "      border-left-color: var(--fill-color);\n",
              "      border-top-color: var(--fill-color);\n",
              "    }\n",
              "    30% {\n",
              "      border-color: transparent;\n",
              "      border-left-color: var(--fill-color);\n",
              "      border-top-color: var(--fill-color);\n",
              "      border-right-color: var(--fill-color);\n",
              "    }\n",
              "    40% {\n",
              "      border-color: transparent;\n",
              "      border-right-color: var(--fill-color);\n",
              "      border-top-color: var(--fill-color);\n",
              "    }\n",
              "    60% {\n",
              "      border-color: transparent;\n",
              "      border-right-color: var(--fill-color);\n",
              "    }\n",
              "    80% {\n",
              "      border-color: transparent;\n",
              "      border-right-color: var(--fill-color);\n",
              "      border-bottom-color: var(--fill-color);\n",
              "    }\n",
              "    90% {\n",
              "      border-color: transparent;\n",
              "      border-bottom-color: var(--fill-color);\n",
              "    }\n",
              "  }\n",
              "</style>\n",
              "\n",
              "      <script>\n",
              "        async function quickchart(key) {\n",
              "          const quickchartButtonEl =\n",
              "            document.querySelector('#' + key + ' button');\n",
              "          quickchartButtonEl.disabled = true;  // To prevent multiple clicks.\n",
              "          quickchartButtonEl.classList.add('colab-df-spinner');\n",
              "          try {\n",
              "            const charts = await google.colab.kernel.invokeFunction(\n",
              "                'suggestCharts', [key], {});\n",
              "          } catch (error) {\n",
              "            console.error('Error during call to suggestCharts:', error);\n",
              "          }\n",
              "          quickchartButtonEl.classList.remove('colab-df-spinner');\n",
              "          quickchartButtonEl.classList.add('colab-df-quickchart-complete');\n",
              "        }\n",
              "        (() => {\n",
              "          let quickchartButtonEl =\n",
              "            document.querySelector('#df-f07300d3-7b13-4711-a1f6-d629183b3357 button');\n",
              "          quickchartButtonEl.style.display =\n",
              "            google.colab.kernel.accessAllowed ? 'block' : 'none';\n",
              "        })();\n",
              "      </script>\n",
              "    </div>\n",
              "\n",
              "    </div>\n",
              "  </div>\n"
            ],
            "application/vnd.google.colaboratory.intrinsic+json": {
              "type": "dataframe",
              "summary": "{\n  \"name\": \"timestamp\",\n  \"rows\": 1441,\n  \"fields\": [\n    {\n      \"column\": \"Unnamed: 0\",\n      \"properties\": {\n        \"dtype\": \"number\",\n        \"std\": 416,\n        \"min\": 0,\n        \"max\": 1440,\n        \"num_unique_values\": 1441,\n        \"samples\": [\n          841,\n          1001,\n          4\n        ],\n        \"semantic_type\": \"\",\n        \"description\": \"\"\n      }\n    },\n    {\n      \"column\": \"timestamp\",\n      \"properties\": {\n        \"dtype\": \"object\",\n        \"num_unique_values\": 888,\n        \"samples\": [\n          \"2025-04-05 14:14\",\n          \"2025-03-15 04:02\",\n          \"2025-03-29 04:27\"\n        ],\n        \"semantic_type\": \"\",\n        \"description\": \"\"\n      }\n    },\n    {\n      \"column\": \"date_time\",\n      \"properties\": {\n        \"dtype\": \"object\",\n        \"num_unique_values\": 888,\n        \"samples\": [\n          \"2025-04-05 14:14:00\",\n          \"2025-03-15 04:02:00\",\n          \"2025-03-29 04:27:00\"\n        ],\n        \"semantic_type\": \"\",\n        \"description\": \"\"\n      }\n    },\n    {\n      \"column\": \"time_diff\",\n      \"properties\": {\n        \"dtype\": \"category\",\n        \"num_unique_values\": 88,\n        \"samples\": [\n          \"0 days 15:01:00\",\n          \"0 days 00:00:00\",\n          \"0 days 00:41:00\"\n        ],\n        \"semantic_type\": \"\",\n        \"description\": \"\"\n      }\n    },\n    {\n      \"column\": \"date\",\n      \"properties\": {\n        \"dtype\": \"object\",\n        \"num_unique_values\": 23,\n        \"samples\": [\n          \"2025-03-21\",\n          \"2025-03-29\",\n          \"2025-04-11\"\n        ],\n        \"semantic_type\": \"\",\n        \"description\": \"\"\n      }\n    },\n    {\n      \"column\": \"time\",\n      \"properties\": {\n        \"dtype\": \"object\",\n        \"num_unique_values\": 660,\n        \"samples\": [\n          \"21:53:00\",\n          \"19:26:00\",\n          \"20:23:00\"\n        ],\n        \"semantic_type\": \"\",\n        \"description\": \"\"\n      }\n    },\n    {\n      \"column\": \"month\",\n      \"properties\": {\n        \"dtype\": \"number\",\n        \"std\": 0,\n        \"min\": 3,\n        \"max\": 4,\n        \"num_unique_values\": 2,\n        \"samples\": [\n          3,\n          4\n        ],\n        \"semantic_type\": \"\",\n        \"description\": \"\"\n      }\n    }\n  ]\n}"
            }
          },
          "metadata": {},
          "execution_count": 4
        }
      ]
    },
    {
      "cell_type": "markdown",
      "source": [
        "## **Question 2**:  How can I perform statistical operations (mean, median, mode, standard deviation) on a dataset and store the results of these operations in an easy-to-read table?"
      ],
      "metadata": {
        "id": "RQLjzWqDy1iZ"
      }
    },
    {
      "cell_type": "markdown",
      "source": [
        "### 1) Load in your data."
      ],
      "metadata": {
        "id": "4aMg_YRCS8Hx"
      }
    },
    {
      "cell_type": "code",
      "source": [
        "# I will be working with my dataset from Project 4.\n",
        "\n",
        "fish_catch = pd.read_csv('/fish-catch-gear-type.csv')"
      ],
      "metadata": {
        "id": "ofmU3pVJJ_nO"
      },
      "execution_count": 5,
      "outputs": []
    },
    {
      "cell_type": "code",
      "source": [
        "print(fish_catch.head())"
      ],
      "metadata": {
        "colab": {
          "base_uri": "https://localhost:8080/"
        },
        "id": "dGmRHQ3vLar5",
        "outputId": "4e59c91c-076e-4a81-e38c-53a912445645"
      },
      "execution_count": 6,
      "outputs": [
        {
          "output_type": "stream",
          "name": "stdout",
          "text": [
            "  Entity      Code  Year  unknown_gear   other_gear     longline      gillnet  \\\n",
            "0  World  OWID_WRL  1950   1135520.017  5611348.239  676257.2110  1120425.835   \n",
            "1  World  OWID_WRL  1951   1367037.471  5849082.212  688972.3635  1225727.644   \n",
            "2  World  OWID_WRL  1952   1419353.162  6140895.013  763147.1952  1252516.373   \n",
            "3  World  OWID_WRL  1953   1520077.746  6376196.441  810689.3551  1285729.317   \n",
            "4  World  OWID_WRL  1954   1692873.476  6793681.406  864504.4959  1481558.559   \n",
            "\n",
            "   small_scale  purse_seine  pelagic trawl  bottom_trawl  unknown_gear.1  \\\n",
            "0  7669648.137  3688878.091    1578129.095   6647678.197     1135520.017   \n",
            "1  8350990.921  3945469.027    1910049.218   6942004.814     1367037.471   \n",
            "2  8475154.117  4312867.361    1968274.208   7922492.454     1419353.162   \n",
            "3  8671445.761  4529348.903    2002819.389   7978912.472     1520077.746   \n",
            "4  9258341.606  4537513.282    2073000.649   9382986.702     1692873.476   \n",
            "\n",
            "   other_gear.1   longline.1    gillnet.1  small_scale.1  purse_seine.1  \\\n",
            "0   5611348.239  676257.2110  1120425.835    7669648.137    3688878.091   \n",
            "1   5849082.212  688972.3635  1225727.644    8350990.921    3945469.027   \n",
            "2   6140895.013  763147.1952  1252516.373    8475154.117    4312867.361   \n",
            "3   6376196.441  810689.3551  1285729.317    8671445.761    4529348.903   \n",
            "4   6793681.406  864504.4959  1481558.559    9258341.606    4537513.282   \n",
            "\n",
            "   pelagic trawl.1  bottom_trawl.1  \n",
            "0      1578129.095     6647678.197  \n",
            "1      1910049.218     6942004.814  \n",
            "2      1968274.208     7922492.454  \n",
            "3      2002819.389     7978912.472  \n",
            "4      2073000.649     9382986.702  \n"
          ]
        }
      ]
    },
    {
      "cell_type": "markdown",
      "source": [
        "### 2) Select the columns you want to work with. You need to check the data types stored in each column to know if you are working with numerical data."
      ],
      "metadata": {
        "id": "6aLYR3ySNBnd"
      }
    },
    {
      "cell_type": "code",
      "source": [
        "# Other than the \"Entity\" and \"Code\" columns, all the columns contain numerical data.\n",
        "fish_catch.info()"
      ],
      "metadata": {
        "colab": {
          "base_uri": "https://localhost:8080/"
        },
        "id": "9UhK2tjQNjCi",
        "outputId": "0825c41e-6383-42db-df17-53b83db8aa4d"
      },
      "execution_count": 7,
      "outputs": [
        {
          "output_type": "stream",
          "name": "stdout",
          "text": [
            "<class 'pandas.core.frame.DataFrame'>\n",
            "RangeIndex: 69 entries, 0 to 68\n",
            "Data columns (total 19 columns):\n",
            " #   Column           Non-Null Count  Dtype  \n",
            "---  ------           --------------  -----  \n",
            " 0   Entity           69 non-null     object \n",
            " 1   Code             69 non-null     object \n",
            " 2   Year             69 non-null     int64  \n",
            " 3   unknown_gear     69 non-null     float64\n",
            " 4   other_gear       69 non-null     float64\n",
            " 5   longline         69 non-null     float64\n",
            " 6   gillnet          69 non-null     float64\n",
            " 7   small_scale      69 non-null     float64\n",
            " 8   purse_seine      69 non-null     float64\n",
            " 9   pelagic trawl    69 non-null     float64\n",
            " 10  bottom_trawl     69 non-null     float64\n",
            " 11  unknown_gear.1   69 non-null     float64\n",
            " 12  other_gear.1     69 non-null     float64\n",
            " 13  longline.1       69 non-null     float64\n",
            " 14  gillnet.1        69 non-null     float64\n",
            " 15  small_scale.1    69 non-null     float64\n",
            " 16  purse_seine.1    69 non-null     float64\n",
            " 17  pelagic trawl.1  69 non-null     float64\n",
            " 18  bottom_trawl.1   69 non-null     float64\n",
            "dtypes: float64(16), int64(1), object(2)\n",
            "memory usage: 10.4+ KB\n"
          ]
        }
      ]
    },
    {
      "cell_type": "code",
      "source": [
        "# Select the numerical columns you want to work with\n",
        "numerical_cols = fish_catch[['Year', 'unknown_gear', 'other_gear', 'longline', 'gillnet', 'small_scale', 'purse_seine', 'pelagic trawl', 'bottom_trawl']]"
      ],
      "metadata": {
        "id": "JTaIv49_OSmb"
      },
      "execution_count": 8,
      "outputs": []
    },
    {
      "cell_type": "markdown",
      "source": [
        "### 3) Use .mean(), .median(), .mode(), and .std() to calculate the mean, median, and mode of the columns."
      ],
      "metadata": {
        "id": "QcDr3KFwN-BN"
      }
    },
    {
      "cell_type": "code",
      "source": [
        "# Calculate mean, median, mode, and standard deviation for every column.\n",
        "mean_values = numerical_cols.mean()\n",
        "median_values = numerical_cols.median()\n",
        "mode_values = numerical_cols.mode().iloc[0] # Mode can return multiple values, take the first\n",
        "std_values = numerical_cols.std()\n",
        "\n"
      ],
      "metadata": {
        "collapsed": true,
        "id": "zfzSHcvwLyb9"
      },
      "execution_count": 9,
      "outputs": []
    },
    {
      "cell_type": "markdown",
      "source": [
        "### 4) Create a data frame to store your results."
      ],
      "metadata": {
        "id": "m5XHMB_LOx9N"
      }
    },
    {
      "cell_type": "code",
      "source": [
        "# Create a dictionary to store the results\n",
        "stats_data = {\n",
        "    'Mean': mean_values,\n",
        "    'Median': median_values,\n",
        "    'Mode': mode_values,\n",
        "    'Standard Deviation': std_values\n",
        "}"
      ],
      "metadata": {
        "id": "KD5zwCLqOv5_"
      },
      "execution_count": 10,
      "outputs": []
    },
    {
      "cell_type": "code",
      "source": [
        "# Create a DataFrame from the dictionary\n",
        "stats_table = pd.DataFrame(stats_data)"
      ],
      "metadata": {
        "id": "tiMrMlZ_PF5R"
      },
      "execution_count": 11,
      "outputs": []
    },
    {
      "cell_type": "code",
      "source": [
        "# Print the table\n",
        "stats_table"
      ],
      "metadata": {
        "colab": {
          "base_uri": "https://localhost:8080/",
          "height": 326
        },
        "id": "bi_RiAtfPJUC",
        "outputId": "4e1dea67-c82d-4c12-e89f-ca9c9e2c0f4b"
      },
      "execution_count": 12,
      "outputs": [
        {
          "output_type": "execute_result",
          "data": {
            "text/plain": [
              "                       Mean        Median          Mode  Standard Deviation\n",
              "Year           1.984000e+03  1.984000e+03  1.950000e+03        2.006240e+01\n",
              "unknown_gear   5.226484e+06  5.619028e+06  1.135520e+06        1.890510e+06\n",
              "other_gear     1.004559e+07  1.065024e+07  5.611348e+06        2.008352e+06\n",
              "longline       2.318773e+06  2.296639e+06  6.762572e+05        7.834010e+05\n",
              "gillnet        2.196679e+06  1.801452e+06  8.800202e+05        1.028247e+06\n",
              "small_scale    1.571049e+07  1.579578e+07  7.669648e+06        3.962806e+06\n",
              "purse_seine    2.345297e+07  2.439291e+07  3.688878e+06        9.898701e+06\n",
              "pelagic trawl  8.507114e+06  9.343134e+06  1.578129e+06        4.732535e+06\n",
              "bottom_trawl   2.316724e+07  2.547394e+07  6.647678e+06        6.924549e+06"
            ],
            "text/html": [
              "\n",
              "  <div id=\"df-17977498-0772-4aca-9a74-326f1cc96775\" class=\"colab-df-container\">\n",
              "    <div>\n",
              "<style scoped>\n",
              "    .dataframe tbody tr th:only-of-type {\n",
              "        vertical-align: middle;\n",
              "    }\n",
              "\n",
              "    .dataframe tbody tr th {\n",
              "        vertical-align: top;\n",
              "    }\n",
              "\n",
              "    .dataframe thead th {\n",
              "        text-align: right;\n",
              "    }\n",
              "</style>\n",
              "<table border=\"1\" class=\"dataframe\">\n",
              "  <thead>\n",
              "    <tr style=\"text-align: right;\">\n",
              "      <th></th>\n",
              "      <th>Mean</th>\n",
              "      <th>Median</th>\n",
              "      <th>Mode</th>\n",
              "      <th>Standard Deviation</th>\n",
              "    </tr>\n",
              "  </thead>\n",
              "  <tbody>\n",
              "    <tr>\n",
              "      <th>Year</th>\n",
              "      <td>1.984000e+03</td>\n",
              "      <td>1.984000e+03</td>\n",
              "      <td>1.950000e+03</td>\n",
              "      <td>2.006240e+01</td>\n",
              "    </tr>\n",
              "    <tr>\n",
              "      <th>unknown_gear</th>\n",
              "      <td>5.226484e+06</td>\n",
              "      <td>5.619028e+06</td>\n",
              "      <td>1.135520e+06</td>\n",
              "      <td>1.890510e+06</td>\n",
              "    </tr>\n",
              "    <tr>\n",
              "      <th>other_gear</th>\n",
              "      <td>1.004559e+07</td>\n",
              "      <td>1.065024e+07</td>\n",
              "      <td>5.611348e+06</td>\n",
              "      <td>2.008352e+06</td>\n",
              "    </tr>\n",
              "    <tr>\n",
              "      <th>longline</th>\n",
              "      <td>2.318773e+06</td>\n",
              "      <td>2.296639e+06</td>\n",
              "      <td>6.762572e+05</td>\n",
              "      <td>7.834010e+05</td>\n",
              "    </tr>\n",
              "    <tr>\n",
              "      <th>gillnet</th>\n",
              "      <td>2.196679e+06</td>\n",
              "      <td>1.801452e+06</td>\n",
              "      <td>8.800202e+05</td>\n",
              "      <td>1.028247e+06</td>\n",
              "    </tr>\n",
              "    <tr>\n",
              "      <th>small_scale</th>\n",
              "      <td>1.571049e+07</td>\n",
              "      <td>1.579578e+07</td>\n",
              "      <td>7.669648e+06</td>\n",
              "      <td>3.962806e+06</td>\n",
              "    </tr>\n",
              "    <tr>\n",
              "      <th>purse_seine</th>\n",
              "      <td>2.345297e+07</td>\n",
              "      <td>2.439291e+07</td>\n",
              "      <td>3.688878e+06</td>\n",
              "      <td>9.898701e+06</td>\n",
              "    </tr>\n",
              "    <tr>\n",
              "      <th>pelagic trawl</th>\n",
              "      <td>8.507114e+06</td>\n",
              "      <td>9.343134e+06</td>\n",
              "      <td>1.578129e+06</td>\n",
              "      <td>4.732535e+06</td>\n",
              "    </tr>\n",
              "    <tr>\n",
              "      <th>bottom_trawl</th>\n",
              "      <td>2.316724e+07</td>\n",
              "      <td>2.547394e+07</td>\n",
              "      <td>6.647678e+06</td>\n",
              "      <td>6.924549e+06</td>\n",
              "    </tr>\n",
              "  </tbody>\n",
              "</table>\n",
              "</div>\n",
              "    <div class=\"colab-df-buttons\">\n",
              "\n",
              "  <div class=\"colab-df-container\">\n",
              "    <button class=\"colab-df-convert\" onclick=\"convertToInteractive('df-17977498-0772-4aca-9a74-326f1cc96775')\"\n",
              "            title=\"Convert this dataframe to an interactive table.\"\n",
              "            style=\"display:none;\">\n",
              "\n",
              "  <svg xmlns=\"http://www.w3.org/2000/svg\" height=\"24px\" viewBox=\"0 -960 960 960\">\n",
              "    <path d=\"M120-120v-720h720v720H120Zm60-500h600v-160H180v160Zm220 220h160v-160H400v160Zm0 220h160v-160H400v160ZM180-400h160v-160H180v160Zm440 0h160v-160H620v160ZM180-180h160v-160H180v160Zm440 0h160v-160H620v160Z\"/>\n",
              "  </svg>\n",
              "    </button>\n",
              "\n",
              "  <style>\n",
              "    .colab-df-container {\n",
              "      display:flex;\n",
              "      gap: 12px;\n",
              "    }\n",
              "\n",
              "    .colab-df-convert {\n",
              "      background-color: #E8F0FE;\n",
              "      border: none;\n",
              "      border-radius: 50%;\n",
              "      cursor: pointer;\n",
              "      display: none;\n",
              "      fill: #1967D2;\n",
              "      height: 32px;\n",
              "      padding: 0 0 0 0;\n",
              "      width: 32px;\n",
              "    }\n",
              "\n",
              "    .colab-df-convert:hover {\n",
              "      background-color: #E2EBFA;\n",
              "      box-shadow: 0px 1px 2px rgba(60, 64, 67, 0.3), 0px 1px 3px 1px rgba(60, 64, 67, 0.15);\n",
              "      fill: #174EA6;\n",
              "    }\n",
              "\n",
              "    .colab-df-buttons div {\n",
              "      margin-bottom: 4px;\n",
              "    }\n",
              "\n",
              "    [theme=dark] .colab-df-convert {\n",
              "      background-color: #3B4455;\n",
              "      fill: #D2E3FC;\n",
              "    }\n",
              "\n",
              "    [theme=dark] .colab-df-convert:hover {\n",
              "      background-color: #434B5C;\n",
              "      box-shadow: 0px 1px 3px 1px rgba(0, 0, 0, 0.15);\n",
              "      filter: drop-shadow(0px 1px 2px rgba(0, 0, 0, 0.3));\n",
              "      fill: #FFFFFF;\n",
              "    }\n",
              "  </style>\n",
              "\n",
              "    <script>\n",
              "      const buttonEl =\n",
              "        document.querySelector('#df-17977498-0772-4aca-9a74-326f1cc96775 button.colab-df-convert');\n",
              "      buttonEl.style.display =\n",
              "        google.colab.kernel.accessAllowed ? 'block' : 'none';\n",
              "\n",
              "      async function convertToInteractive(key) {\n",
              "        const element = document.querySelector('#df-17977498-0772-4aca-9a74-326f1cc96775');\n",
              "        const dataTable =\n",
              "          await google.colab.kernel.invokeFunction('convertToInteractive',\n",
              "                                                    [key], {});\n",
              "        if (!dataTable) return;\n",
              "\n",
              "        const docLinkHtml = 'Like what you see? Visit the ' +\n",
              "          '<a target=\"_blank\" href=https://colab.research.google.com/notebooks/data_table.ipynb>data table notebook</a>'\n",
              "          + ' to learn more about interactive tables.';\n",
              "        element.innerHTML = '';\n",
              "        dataTable['output_type'] = 'display_data';\n",
              "        await google.colab.output.renderOutput(dataTable, element);\n",
              "        const docLink = document.createElement('div');\n",
              "        docLink.innerHTML = docLinkHtml;\n",
              "        element.appendChild(docLink);\n",
              "      }\n",
              "    </script>\n",
              "  </div>\n",
              "\n",
              "\n",
              "    <div id=\"df-1e45493d-38de-4f84-8a3c-37af910111de\">\n",
              "      <button class=\"colab-df-quickchart\" onclick=\"quickchart('df-1e45493d-38de-4f84-8a3c-37af910111de')\"\n",
              "                title=\"Suggest charts\"\n",
              "                style=\"display:none;\">\n",
              "\n",
              "<svg xmlns=\"http://www.w3.org/2000/svg\" height=\"24px\"viewBox=\"0 0 24 24\"\n",
              "     width=\"24px\">\n",
              "    <g>\n",
              "        <path d=\"M19 3H5c-1.1 0-2 .9-2 2v14c0 1.1.9 2 2 2h14c1.1 0 2-.9 2-2V5c0-1.1-.9-2-2-2zM9 17H7v-7h2v7zm4 0h-2V7h2v10zm4 0h-2v-4h2v4z\"/>\n",
              "    </g>\n",
              "</svg>\n",
              "      </button>\n",
              "\n",
              "<style>\n",
              "  .colab-df-quickchart {\n",
              "      --bg-color: #E8F0FE;\n",
              "      --fill-color: #1967D2;\n",
              "      --hover-bg-color: #E2EBFA;\n",
              "      --hover-fill-color: #174EA6;\n",
              "      --disabled-fill-color: #AAA;\n",
              "      --disabled-bg-color: #DDD;\n",
              "  }\n",
              "\n",
              "  [theme=dark] .colab-df-quickchart {\n",
              "      --bg-color: #3B4455;\n",
              "      --fill-color: #D2E3FC;\n",
              "      --hover-bg-color: #434B5C;\n",
              "      --hover-fill-color: #FFFFFF;\n",
              "      --disabled-bg-color: #3B4455;\n",
              "      --disabled-fill-color: #666;\n",
              "  }\n",
              "\n",
              "  .colab-df-quickchart {\n",
              "    background-color: var(--bg-color);\n",
              "    border: none;\n",
              "    border-radius: 50%;\n",
              "    cursor: pointer;\n",
              "    display: none;\n",
              "    fill: var(--fill-color);\n",
              "    height: 32px;\n",
              "    padding: 0;\n",
              "    width: 32px;\n",
              "  }\n",
              "\n",
              "  .colab-df-quickchart:hover {\n",
              "    background-color: var(--hover-bg-color);\n",
              "    box-shadow: 0 1px 2px rgba(60, 64, 67, 0.3), 0 1px 3px 1px rgba(60, 64, 67, 0.15);\n",
              "    fill: var(--button-hover-fill-color);\n",
              "  }\n",
              "\n",
              "  .colab-df-quickchart-complete:disabled,\n",
              "  .colab-df-quickchart-complete:disabled:hover {\n",
              "    background-color: var(--disabled-bg-color);\n",
              "    fill: var(--disabled-fill-color);\n",
              "    box-shadow: none;\n",
              "  }\n",
              "\n",
              "  .colab-df-spinner {\n",
              "    border: 2px solid var(--fill-color);\n",
              "    border-color: transparent;\n",
              "    border-bottom-color: var(--fill-color);\n",
              "    animation:\n",
              "      spin 1s steps(1) infinite;\n",
              "  }\n",
              "\n",
              "  @keyframes spin {\n",
              "    0% {\n",
              "      border-color: transparent;\n",
              "      border-bottom-color: var(--fill-color);\n",
              "      border-left-color: var(--fill-color);\n",
              "    }\n",
              "    20% {\n",
              "      border-color: transparent;\n",
              "      border-left-color: var(--fill-color);\n",
              "      border-top-color: var(--fill-color);\n",
              "    }\n",
              "    30% {\n",
              "      border-color: transparent;\n",
              "      border-left-color: var(--fill-color);\n",
              "      border-top-color: var(--fill-color);\n",
              "      border-right-color: var(--fill-color);\n",
              "    }\n",
              "    40% {\n",
              "      border-color: transparent;\n",
              "      border-right-color: var(--fill-color);\n",
              "      border-top-color: var(--fill-color);\n",
              "    }\n",
              "    60% {\n",
              "      border-color: transparent;\n",
              "      border-right-color: var(--fill-color);\n",
              "    }\n",
              "    80% {\n",
              "      border-color: transparent;\n",
              "      border-right-color: var(--fill-color);\n",
              "      border-bottom-color: var(--fill-color);\n",
              "    }\n",
              "    90% {\n",
              "      border-color: transparent;\n",
              "      border-bottom-color: var(--fill-color);\n",
              "    }\n",
              "  }\n",
              "</style>\n",
              "\n",
              "      <script>\n",
              "        async function quickchart(key) {\n",
              "          const quickchartButtonEl =\n",
              "            document.querySelector('#' + key + ' button');\n",
              "          quickchartButtonEl.disabled = true;  // To prevent multiple clicks.\n",
              "          quickchartButtonEl.classList.add('colab-df-spinner');\n",
              "          try {\n",
              "            const charts = await google.colab.kernel.invokeFunction(\n",
              "                'suggestCharts', [key], {});\n",
              "          } catch (error) {\n",
              "            console.error('Error during call to suggestCharts:', error);\n",
              "          }\n",
              "          quickchartButtonEl.classList.remove('colab-df-spinner');\n",
              "          quickchartButtonEl.classList.add('colab-df-quickchart-complete');\n",
              "        }\n",
              "        (() => {\n",
              "          let quickchartButtonEl =\n",
              "            document.querySelector('#df-1e45493d-38de-4f84-8a3c-37af910111de button');\n",
              "          quickchartButtonEl.style.display =\n",
              "            google.colab.kernel.accessAllowed ? 'block' : 'none';\n",
              "        })();\n",
              "      </script>\n",
              "    </div>\n",
              "\n",
              "  <div id=\"id_c299a83a-e81a-4d3d-874c-0bc092b9f5ce\">\n",
              "    <style>\n",
              "      .colab-df-generate {\n",
              "        background-color: #E8F0FE;\n",
              "        border: none;\n",
              "        border-radius: 50%;\n",
              "        cursor: pointer;\n",
              "        display: none;\n",
              "        fill: #1967D2;\n",
              "        height: 32px;\n",
              "        padding: 0 0 0 0;\n",
              "        width: 32px;\n",
              "      }\n",
              "\n",
              "      .colab-df-generate:hover {\n",
              "        background-color: #E2EBFA;\n",
              "        box-shadow: 0px 1px 2px rgba(60, 64, 67, 0.3), 0px 1px 3px 1px rgba(60, 64, 67, 0.15);\n",
              "        fill: #174EA6;\n",
              "      }\n",
              "\n",
              "      [theme=dark] .colab-df-generate {\n",
              "        background-color: #3B4455;\n",
              "        fill: #D2E3FC;\n",
              "      }\n",
              "\n",
              "      [theme=dark] .colab-df-generate:hover {\n",
              "        background-color: #434B5C;\n",
              "        box-shadow: 0px 1px 3px 1px rgba(0, 0, 0, 0.15);\n",
              "        filter: drop-shadow(0px 1px 2px rgba(0, 0, 0, 0.3));\n",
              "        fill: #FFFFFF;\n",
              "      }\n",
              "    </style>\n",
              "    <button class=\"colab-df-generate\" onclick=\"generateWithVariable('stats_table')\"\n",
              "            title=\"Generate code using this dataframe.\"\n",
              "            style=\"display:none;\">\n",
              "\n",
              "  <svg xmlns=\"http://www.w3.org/2000/svg\" height=\"24px\"viewBox=\"0 0 24 24\"\n",
              "       width=\"24px\">\n",
              "    <path d=\"M7,19H8.4L18.45,9,17,7.55,7,17.6ZM5,21V16.75L18.45,3.32a2,2,0,0,1,2.83,0l1.4,1.43a1.91,1.91,0,0,1,.58,1.4,1.91,1.91,0,0,1-.58,1.4L9.25,21ZM18.45,9,17,7.55Zm-12,3A5.31,5.31,0,0,0,4.9,8.1,5.31,5.31,0,0,0,1,6.5,5.31,5.31,0,0,0,4.9,4.9,5.31,5.31,0,0,0,6.5,1,5.31,5.31,0,0,0,8.1,4.9,5.31,5.31,0,0,0,12,6.5,5.46,5.46,0,0,0,6.5,12Z\"/>\n",
              "  </svg>\n",
              "    </button>\n",
              "    <script>\n",
              "      (() => {\n",
              "      const buttonEl =\n",
              "        document.querySelector('#id_c299a83a-e81a-4d3d-874c-0bc092b9f5ce button.colab-df-generate');\n",
              "      buttonEl.style.display =\n",
              "        google.colab.kernel.accessAllowed ? 'block' : 'none';\n",
              "\n",
              "      buttonEl.onclick = () => {\n",
              "        google.colab.notebook.generateWithVariable('stats_table');\n",
              "      }\n",
              "      })();\n",
              "    </script>\n",
              "  </div>\n",
              "\n",
              "    </div>\n",
              "  </div>\n"
            ],
            "application/vnd.google.colaboratory.intrinsic+json": {
              "type": "dataframe",
              "variable_name": "stats_table",
              "summary": "{\n  \"name\": \"stats_table\",\n  \"rows\": 9,\n  \"fields\": [\n    {\n      \"column\": \"Mean\",\n      \"properties\": {\n        \"dtype\": \"number\",\n        \"std\": 8886754.84432582,\n        \"min\": 1984.0,\n        \"max\": 23452968.120884057,\n        \"num_unique_values\": 9,\n        \"samples\": [\n          8507113.813086957,\n          5226484.354550725,\n          15710494.650942028\n        ],\n        \"semantic_type\": \"\",\n        \"description\": \"\"\n      }\n    },\n    {\n      \"column\": \"Median\",\n      \"properties\": {\n        \"dtype\": \"number\",\n        \"std\": 9510160.097259907,\n        \"min\": 1984.0,\n        \"max\": 25473941.36,\n        \"num_unique_values\": 9,\n        \"samples\": [\n          9343133.562,\n          5619028.289,\n          15795782.53\n        ],\n        \"semantic_type\": \"\",\n        \"description\": \"\"\n      }\n    },\n    {\n      \"column\": \"Mode\",\n      \"properties\": {\n        \"dtype\": \"number\",\n        \"std\": 2887415.919579704,\n        \"min\": 1950.0,\n        \"max\": 7669648.137,\n        \"num_unique_values\": 9,\n        \"samples\": [\n          1578129.095,\n          1135520.017,\n          7669648.137\n        ],\n        \"semantic_type\": \"\",\n        \"description\": \"\"\n      }\n    },\n    {\n      \"column\": \"Standard Deviation\",\n      \"properties\": {\n        \"dtype\": \"number\",\n        \"std\": 3258659.288816813,\n        \"min\": 20.062402647738878,\n        \"max\": 9898700.533639098,\n        \"num_unique_values\": 9,\n        \"samples\": [\n          4732534.581870495,\n          1890510.0190792005,\n          3962806.4603756107\n        ],\n        \"semantic_type\": \"\",\n        \"description\": \"\"\n      }\n    }\n  ]\n}"
            }
          },
          "metadata": {},
          "execution_count": 12
        }
      ]
    },
    {
      "cell_type": "markdown",
      "source": [
        "## **Question 3**: How can I normalize numerical data?"
      ],
      "metadata": {
        "id": "wqy98uKOvBfv"
      }
    },
    {
      "cell_type": "markdown",
      "source": [
        "### Technique 1: Standard Deviation"
      ],
      "metadata": {
        "id": "C2BiQqwxXEWV"
      }
    },
    {
      "cell_type": "markdown",
      "source": [
        "#### 1) Load in the dataframe"
      ],
      "metadata": {
        "id": "spECiy5yXLY4"
      }
    },
    {
      "cell_type": "code",
      "source": [
        "## I will be working with the fish dataframe I used in Question 2.\n",
        "fish_catch_std = fish_catch.copy()"
      ],
      "metadata": {
        "id": "2iEb00Q_Mck3"
      },
      "execution_count": 13,
      "outputs": []
    },
    {
      "cell_type": "markdown",
      "source": [
        "#### 2) Divide the values in each numerical column by their standard deviation.  Create new columns to store the normalized values."
      ],
      "metadata": {
        "id": "rRvC6VuhXxLG"
      }
    },
    {
      "cell_type": "code",
      "source": [
        "# To scale the the columns, I will divide their values by their standard\n",
        "# deviations and create new columns in the dataframe to store the scaled values.\n",
        "for col in numerical_cols:\n",
        "  new_col_name = col + ' std_scaled'\n",
        "  column = fish_catch_std[col]\n",
        "  fish_catch_std[new_col_name] = column / column.std()"
      ],
      "metadata": {
        "id": "KIpC9PFUP18C"
      },
      "execution_count": 14,
      "outputs": []
    },
    {
      "cell_type": "code",
      "source": [
        "# The mean of the scaled columns should be 0, and the standard deviation should be 1.\n",
        "print(fish_catch_std.head())"
      ],
      "metadata": {
        "colab": {
          "base_uri": "https://localhost:8080/"
        },
        "id": "E-9CsKZEZgik",
        "outputId": "f62f5c4e-5e46-48ab-de43-ef554c7cadff"
      },
      "execution_count": 15,
      "outputs": [
        {
          "output_type": "stream",
          "name": "stdout",
          "text": [
            "  Entity      Code  Year  unknown_gear   other_gear     longline      gillnet  \\\n",
            "0  World  OWID_WRL  1950   1135520.017  5611348.239  676257.2110  1120425.835   \n",
            "1  World  OWID_WRL  1951   1367037.471  5849082.212  688972.3635  1225727.644   \n",
            "2  World  OWID_WRL  1952   1419353.162  6140895.013  763147.1952  1252516.373   \n",
            "3  World  OWID_WRL  1953   1520077.746  6376196.441  810689.3551  1285729.317   \n",
            "4  World  OWID_WRL  1954   1692873.476  6793681.406  864504.4959  1481558.559   \n",
            "\n",
            "   small_scale  purse_seine  pelagic trawl  ...  bottom_trawl.1  \\\n",
            "0  7669648.137  3688878.091    1578129.095  ...     6647678.197   \n",
            "1  8350990.921  3945469.027    1910049.218  ...     6942004.814   \n",
            "2  8475154.117  4312867.361    1968274.208  ...     7922492.454   \n",
            "3  8671445.761  4529348.903    2002819.389  ...     7978912.472   \n",
            "4  9258341.606  4537513.282    2073000.649  ...     9382986.702   \n",
            "\n",
            "   Year std_scaled  unknown_gear std_scaled  other_gear std_scaled  \\\n",
            "0        97.196733                 0.600642               2.794006   \n",
            "1        97.246578                 0.723105               2.912379   \n",
            "2        97.296422                 0.750778               3.057679   \n",
            "3        97.346267                 0.804057               3.174840   \n",
            "4        97.396111                 0.895459               3.382715   \n",
            "\n",
            "   longline std_scaled  gillnet std_scaled  small_scale std_scaled  \\\n",
            "0             0.863233            1.089646                1.935408   \n",
            "1             0.879463            1.192055                2.107343   \n",
            "2             0.974146            1.218108                2.138675   \n",
            "3             1.034833            1.250408                2.188208   \n",
            "4             1.103527            1.440858                2.336309   \n",
            "\n",
            "   purse_seine std_scaled  pelagic trawl std_scaled  bottom_trawl std_scaled  \n",
            "0                0.372663                  0.333464                 0.960016  \n",
            "1                0.398585                  0.403600                 1.002521  \n",
            "2                0.435700                  0.415903                 1.144117  \n",
            "3                0.457570                  0.423202                 1.152265  \n",
            "4                0.458395                  0.438032                 1.355032  \n",
            "\n",
            "[5 rows x 28 columns]\n"
          ]
        }
      ]
    },
    {
      "cell_type": "markdown",
      "source": [
        "### Technique 2: Minimum and Maximum"
      ],
      "metadata": {
        "id": "p0NR3_VtYBwV"
      }
    },
    {
      "cell_type": "markdown",
      "source": [
        "#### 1) Load in the dataframe"
      ],
      "metadata": {
        "id": "g3VjjYNWM47c"
      }
    },
    {
      "cell_type": "code",
      "source": [
        "fish_catch_minmax = fish_catch.copy()"
      ],
      "metadata": {
        "id": "x_IY-Mwkaf-u"
      },
      "execution_count": 16,
      "outputs": []
    },
    {
      "cell_type": "markdown",
      "source": [
        "#### 2) Use the formula, (value - min)/(max - min), to normalize the values.  Create new columns to store the normalized values."
      ],
      "metadata": {
        "id": "P2BfCtZLM6o0"
      }
    },
    {
      "cell_type": "code",
      "source": [
        "# To scale the the columns, I will use the formula (value - min)/(max - min)\n",
        "# and create new columns in the dataframe to store the scaled values.\n",
        "for col in numerical_cols:\n",
        "  new_col_name = col + ' minmax_scaled'\n",
        "  column = fish_catch_minmax[col]\n",
        "  min = column.min()\n",
        "  max = column.max()\n",
        "  fish_catch_minmax[new_col_name] = (column - min) / (max - min)"
      ],
      "metadata": {
        "id": "FmKcs-dUanE3"
      },
      "execution_count": 17,
      "outputs": []
    },
    {
      "cell_type": "code",
      "source": [
        "# The minimum value in each column should scale to 0, while the maximum value in each column should scale to 1.\n",
        "print(fish_catch_minmax.head())"
      ],
      "metadata": {
        "colab": {
          "base_uri": "https://localhost:8080/"
        },
        "id": "Lq6JMjK6bxGm",
        "outputId": "8d0f8929-7db9-42ee-9aca-95a7367fc1fe"
      },
      "execution_count": 18,
      "outputs": [
        {
          "output_type": "stream",
          "name": "stdout",
          "text": [
            "  Entity      Code  Year  unknown_gear   other_gear     longline      gillnet  \\\n",
            "0  World  OWID_WRL  1950   1135520.017  5611348.239  676257.2110  1120425.835   \n",
            "1  World  OWID_WRL  1951   1367037.471  5849082.212  688972.3635  1225727.644   \n",
            "2  World  OWID_WRL  1952   1419353.162  6140895.013  763147.1952  1252516.373   \n",
            "3  World  OWID_WRL  1953   1520077.746  6376196.441  810689.3551  1285729.317   \n",
            "4  World  OWID_WRL  1954   1692873.476  6793681.406  864504.4959  1481558.559   \n",
            "\n",
            "   small_scale  purse_seine  pelagic trawl  ...  bottom_trawl.1  \\\n",
            "0  7669648.137  3688878.091    1578129.095  ...     6647678.197   \n",
            "1  8350990.921  3945469.027    1910049.218  ...     6942004.814   \n",
            "2  8475154.117  4312867.361    1968274.208  ...     7922492.454   \n",
            "3  8671445.761  4529348.903    2002819.389  ...     7978912.472   \n",
            "4  9258341.606  4537513.282    2073000.649  ...     9382986.702   \n",
            "\n",
            "   Year minmax_scaled  unknown_gear minmax_scaled  other_gear minmax_scaled  \\\n",
            "0            0.000000                    0.000000                  0.000000   \n",
            "1            0.014706                    0.024262                  0.026978   \n",
            "2            0.029412                    0.029745                  0.060094   \n",
            "3            0.044118                    0.040301                  0.086796   \n",
            "4            0.058824                    0.058409                  0.134173   \n",
            "\n",
            "   longline minmax_scaled  gillnet minmax_scaled  small_scale minmax_scaled  \\\n",
            "0                0.000000               0.069750                   0.000000   \n",
            "1                0.004370               0.100301                   0.049692   \n",
            "2                0.029863               0.108073                   0.058748   \n",
            "3                0.046203               0.117710                   0.073064   \n",
            "4                0.064698               0.174526                   0.115868   \n",
            "\n",
            "   purse_seine minmax_scaled  pelagic trawl minmax_scaled  \\\n",
            "0                   0.000000                     0.000000   \n",
            "1                   0.006899                     0.022114   \n",
            "2                   0.016778                     0.025993   \n",
            "3                   0.022599                     0.028295   \n",
            "4                   0.022818                     0.032971   \n",
            "\n",
            "   bottom_trawl minmax_scaled  \n",
            "0                    0.000000  \n",
            "1                    0.011046  \n",
            "2                    0.047845  \n",
            "3                    0.049963  \n",
            "4                    0.102659  \n",
            "\n",
            "[5 rows x 28 columns]\n"
          ]
        }
      ]
    },
    {
      "cell_type": "markdown",
      "source": [
        "## **Question 4**: How can I create a CSV file by merging two dataframes together, and save that CSV file to my computer?"
      ],
      "metadata": {
        "id": "eOr_EnravTQw"
      }
    },
    {
      "cell_type": "markdown",
      "source": [
        "### 1) Load in both csv_files"
      ],
      "metadata": {
        "id": "PsWJHH2cdT1a"
      }
    },
    {
      "cell_type": "code",
      "source": [
        "# I will be working with the two different normalized datasets I created in my answer to Question 3."
      ],
      "metadata": {
        "id": "5FKCPz0sNbVU"
      },
      "execution_count": 19,
      "outputs": []
    },
    {
      "cell_type": "markdown",
      "source": [
        "### 2) Find at least one column that the datasets share."
      ],
      "metadata": {
        "id": "VvRZzDife-zD"
      }
    },
    {
      "cell_type": "code",
      "source": [
        "#The dataframes share a lot of columns! All of their columns are shared except for their scaled columns.\n",
        "#We want to merge the dataframes without copying any of these shared columns.\n",
        "print(fish_catch_std.columns)\n",
        "print(fish_catch_minmax.columns)"
      ],
      "metadata": {
        "colab": {
          "base_uri": "https://localhost:8080/"
        },
        "id": "iPIpuNn2gKKl",
        "outputId": "3925da56-23a0-4242-e954-a04d2417068a"
      },
      "execution_count": 20,
      "outputs": [
        {
          "output_type": "stream",
          "name": "stdout",
          "text": [
            "Index(['Entity', 'Code', 'Year', 'unknown_gear', 'other_gear', 'longline',\n",
            "       'gillnet', 'small_scale', 'purse_seine', 'pelagic trawl',\n",
            "       'bottom_trawl', 'unknown_gear.1', 'other_gear.1', 'longline.1',\n",
            "       'gillnet.1', 'small_scale.1', 'purse_seine.1', 'pelagic trawl.1',\n",
            "       'bottom_trawl.1', 'Year std_scaled', 'unknown_gear std_scaled',\n",
            "       'other_gear std_scaled', 'longline std_scaled', 'gillnet std_scaled',\n",
            "       'small_scale std_scaled', 'purse_seine std_scaled',\n",
            "       'pelagic trawl std_scaled', 'bottom_trawl std_scaled'],\n",
            "      dtype='object')\n",
            "Index(['Entity', 'Code', 'Year', 'unknown_gear', 'other_gear', 'longline',\n",
            "       'gillnet', 'small_scale', 'purse_seine', 'pelagic trawl',\n",
            "       'bottom_trawl', 'unknown_gear.1', 'other_gear.1', 'longline.1',\n",
            "       'gillnet.1', 'small_scale.1', 'purse_seine.1', 'pelagic trawl.1',\n",
            "       'bottom_trawl.1', 'Year minmax_scaled', 'unknown_gear minmax_scaled',\n",
            "       'other_gear minmax_scaled', 'longline minmax_scaled',\n",
            "       'gillnet minmax_scaled', 'small_scale minmax_scaled',\n",
            "       'purse_seine minmax_scaled', 'pelagic trawl minmax_scaled',\n",
            "       'bottom_trawl minmax_scaled'],\n",
            "      dtype='object')\n"
          ]
        }
      ]
    },
    {
      "cell_type": "markdown",
      "source": [
        "### 3) Merge the dataset on the shared columns."
      ],
      "metadata": {
        "id": "OsHLIoY6NnfK"
      }
    },
    {
      "cell_type": "code",
      "source": [
        "# Since most of the columns in both dataframes are the same except the scaled columns, I will select multiple columns to merge on.\n",
        "# I will be using the left merge method.\n",
        "merged_df = pd.merge(fish_catch_std, fish_catch_minmax, on=['Entity', 'Code', 'Year', 'unknown_gear', 'other_gear', 'longline',\n",
        "       'gillnet', 'small_scale', 'purse_seine', 'pelagic trawl',\n",
        "       'bottom_trawl', 'unknown_gear.1', 'other_gear.1', 'longline.1',\n",
        "       'gillnet.1', 'small_scale.1', 'purse_seine.1', 'pelagic trawl.1',\n",
        "       'bottom_trawl.1',], how = 'left')\n",
        "print(merged_df.head())\n"
      ],
      "metadata": {
        "colab": {
          "base_uri": "https://localhost:8080/"
        },
        "id": "RFJ6B4DQe-YA",
        "outputId": "1dabb1d7-4bff-49d7-b393-dfcbc6070f15"
      },
      "execution_count": 21,
      "outputs": [
        {
          "output_type": "stream",
          "name": "stdout",
          "text": [
            "  Entity      Code  Year  unknown_gear   other_gear     longline      gillnet  \\\n",
            "0  World  OWID_WRL  1950   1135520.017  5611348.239  676257.2110  1120425.835   \n",
            "1  World  OWID_WRL  1951   1367037.471  5849082.212  688972.3635  1225727.644   \n",
            "2  World  OWID_WRL  1952   1419353.162  6140895.013  763147.1952  1252516.373   \n",
            "3  World  OWID_WRL  1953   1520077.746  6376196.441  810689.3551  1285729.317   \n",
            "4  World  OWID_WRL  1954   1692873.476  6793681.406  864504.4959  1481558.559   \n",
            "\n",
            "   small_scale  purse_seine  pelagic trawl  ...  bottom_trawl std_scaled  \\\n",
            "0  7669648.137  3688878.091    1578129.095  ...                 0.960016   \n",
            "1  8350990.921  3945469.027    1910049.218  ...                 1.002521   \n",
            "2  8475154.117  4312867.361    1968274.208  ...                 1.144117   \n",
            "3  8671445.761  4529348.903    2002819.389  ...                 1.152265   \n",
            "4  9258341.606  4537513.282    2073000.649  ...                 1.355032   \n",
            "\n",
            "   Year minmax_scaled  unknown_gear minmax_scaled  other_gear minmax_scaled  \\\n",
            "0            0.000000                    0.000000                  0.000000   \n",
            "1            0.014706                    0.024262                  0.026978   \n",
            "2            0.029412                    0.029745                  0.060094   \n",
            "3            0.044118                    0.040301                  0.086796   \n",
            "4            0.058824                    0.058409                  0.134173   \n",
            "\n",
            "   longline minmax_scaled  gillnet minmax_scaled  small_scale minmax_scaled  \\\n",
            "0                0.000000               0.069750                   0.000000   \n",
            "1                0.004370               0.100301                   0.049692   \n",
            "2                0.029863               0.108073                   0.058748   \n",
            "3                0.046203               0.117710                   0.073064   \n",
            "4                0.064698               0.174526                   0.115868   \n",
            "\n",
            "   purse_seine minmax_scaled  pelagic trawl minmax_scaled  \\\n",
            "0                   0.000000                     0.000000   \n",
            "1                   0.006899                     0.022114   \n",
            "2                   0.016778                     0.025993   \n",
            "3                   0.022599                     0.028295   \n",
            "4                   0.022818                     0.032971   \n",
            "\n",
            "   bottom_trawl minmax_scaled  \n",
            "0                    0.000000  \n",
            "1                    0.011046  \n",
            "2                    0.047845  \n",
            "3                    0.049963  \n",
            "4                    0.102659  \n",
            "\n",
            "[5 rows x 37 columns]\n"
          ]
        }
      ]
    },
    {
      "cell_type": "code",
      "source": [
        "# There are no repeating column names, so the merge worked correctly.\n",
        "print(len(merged_df.columns))\n",
        "print(len(merged_df.columns.unique()))"
      ],
      "metadata": {
        "colab": {
          "base_uri": "https://localhost:8080/"
        },
        "id": "LKyPwv6Qgb7u",
        "outputId": "4b832cfe-4cf0-44cc-e7ff-3d096c6ebaac"
      },
      "execution_count": 22,
      "outputs": [
        {
          "output_type": "stream",
          "name": "stdout",
          "text": [
            "37\n",
            "37\n"
          ]
        }
      ]
    },
    {
      "cell_type": "markdown",
      "source": [
        "### 4) Save the merged dataframe as a csv file.  You will need to download the file to your computer (it will be located in the files tab to the left)."
      ],
      "metadata": {
        "id": "vIprxTTCOL1N"
      }
    },
    {
      "cell_type": "code",
      "source": [
        "#to_csv() creates a csv file from the pandas dataframe.\n",
        "#Index=false prevents the csv file from containing a column for the index.\n",
        "\n",
        "merged_df.to_csv('merged_fish_data.csv', index=False)"
      ],
      "metadata": {
        "id": "EPN-KzWMdZqE"
      },
      "execution_count": 23,
      "outputs": []
    }
  ]
}